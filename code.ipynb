{
 "cells": [
  {
   "cell_type": "code",
   "execution_count": 8,
   "id": "569d5ec0-a493-4a75-80e0-60d111888bf7",
   "metadata": {},
   "outputs": [],
   "source": [
    "import pandas as pd\n",
    "import numpy as np\n",
    "\n",
    "import seaborn as sns\n",
    "\n",
    "from sklearn import metrics\n",
    "\n",
    "from sklearn.linear_model import LogisticRegression\n",
    "\n",
    "from sklearn.model_selection import StratifiedKFold, KFold, train_test_split, RandomizedSearchCV\n",
    "from sklearn.naive_bayes import GaussianNB\n",
    "\n",
    "from sklearn.impute import KNNImputer\n",
    "from sklearn.tree import DecisionTreeClassifier\n",
    "\n",
    "from sklearn.ensemble import IsolationForest\n",
    "\n",
    "from category_encoders import MEstimateEncoder\n",
    "\n",
    "import lightgbm\n",
    "\n",
    "import catboost\n",
    "\n",
    "import xgboost\n",
    "\n",
    "import matplotlib.pyplot as plt\n",
    "\n",
    "from datetime import date\n",
    "import math\n",
    "\n",
    "from optuna import trial\n",
    "import optuna"
   ]
  },
  {
   "cell_type": "code",
   "execution_count": 88,
   "id": "c5661101-c695-49ab-a212-55a28ecb2fdf",
   "metadata": {},
   "outputs": [],
   "source": [
    "train = pd.read_csv('train.csv')\n",
    "test = pd.read_csv('test.csv')"
   ]
  },
  {
   "cell_type": "code",
   "execution_count": 89,
   "id": "310457e9-5737-481e-b40a-60933903fc12",
   "metadata": {},
   "outputs": [],
   "source": [
    "train['last_lead'] = (pd.to_datetime('2022-01-01') - pd.to_datetime(train['created_at'])).dt.days\n",
    "test['last_lead'] = (pd.to_datetime('2022-01-01') - pd.to_datetime(test['created_at'])).dt.days"
   ]
  },
  {
   "cell_type": "code",
   "execution_count": 90,
   "id": "176b47e8-d5df-4068-bf7c-59f132d3d3dd",
   "metadata": {},
   "outputs": [],
   "source": [
    "train['month'] = train['created_at'].apply(lambda x: pd.to_datetime(x).month)\n",
    "test['month'] =test['created_at'].apply(lambda x: pd.to_datetime(x).month)"
   ]
  },
  {
   "cell_type": "code",
   "execution_count": 411,
   "id": "4dff14a5-bb2d-4f7e-bfaf-cff5b8f9bea8",
   "metadata": {},
   "outputs": [
    {
     "name": "stderr",
     "output_type": "stream",
     "text": [
      "d:\\python3.9\\lib\\site-packages\\seaborn\\_decorators.py:36: FutureWarning: Pass the following variable as a keyword arg: x. From version 0.12, the only valid positional argument will be `data`, and passing other arguments without an explicit keyword will result in an error or misinterpretation.\n",
      "  warnings.warn(\n"
     ]
    },
    {
     "data": {
      "text/plain": [
       "<AxesSubplot:xlabel='buy', ylabel='count'>"
      ]
     },
     "execution_count": 411,
     "metadata": {},
     "output_type": "execute_result"
    },
    {
     "data": {
      "image/png": "[encoded data removed]",
      "text/plain": [
       "<Figure size 432x288 with 1 Axes>"
      ]
     },
     "metadata": {
      "needs_background": "light"
     },
     "output_type": "display_data"
    }
   ],
   "source": [
    "sns.countplot(train['buy'])"
   ]
  },
  {
   "cell_type": "code",
   "execution_count": 431,
   "id": "5f273265-2eb5-45f2-bdf4-ce2464a103f3",
   "metadata": {},
   "outputs": [
    {
     "data": {
      "text/plain": [
       "<AxesSubplot:xlabel='campaign_var_2', ylabel='count'>"
      ]
     },
     "execution_count": 431,
     "metadata": {},
     "output_type": "execute_result"
    },
    {
     "data": {
      "image/png": "[encoded data removed]",
      "text/plain": [
       "<Figure size 432x288 with 1 Axes>"
      ]
     },
     "metadata": {
      "needs_background": "light"
     },
     "output_type": "display_data"
    }
   ],
   "source": [
    "sns.countplot(x=train['campaign_var_2'], hue=train['buy'])"
   ]
  },
  {
   "cell_type": "code",
   "execution_count": 413,
   "id": "f9e5d96f-2dcd-4891-9e33-c2680fca8ce1",
   "metadata": {},
   "outputs": [
    {
     "name": "stderr",
     "output_type": "stream",
     "text": [
      "d:\\python3.9\\lib\\site-packages\\seaborn\\_decorators.py:36: FutureWarning: Pass the following variable as a keyword arg: x. From version 0.12, the only valid positional argument will be `data`, and passing other arguments without an explicit keyword will result in an error or misinterpretation.\n",
      "  warnings.warn(\n"
     ]
    },
    {
     "data": {
      "text/plain": [
       "<AxesSubplot:xlabel='products_purchased', ylabel='count'>"
      ]
     },
     "execution_count": 413,
     "metadata": {},
     "output_type": "execute_result"
    },
    {
     "data": {
      "image/png": "[encoded data removed]",
      "text/plain": [
       "<Figure size 432x288 with 1 Axes>"
      ]
     },
     "metadata": {
      "needs_background": "light"
     },
     "output_type": "display_data"
    }
   ],
   "source": [
    "sns.countplot(test['products_purchased'])"
   ]
  },
  {
   "cell_type": "code",
   "execution_count": 414,
   "id": "26067691-6c76-4a35-b222-73e3390a174e",
   "metadata": {},
   "outputs": [],
   "source": [
    "import scipy.stats as ss"
   ]
  },
  {
   "cell_type": "code",
   "execution_count": 415,
   "id": "cec1ca83-d00c-4bed-801e-98bcd2593037",
   "metadata": {},
   "outputs": [],
   "source": [
    "def cramers_v(x, y):\n",
    "    \n",
    "    confusion_matrix = pd.crosstab(x,y)\n",
    "    chi2 = ss.chi2_contingency(confusion_matrix)[0]\n",
    "    n = confusion_matrix.sum().sum()\n",
    "    phi2 = chi2/n\n",
    "    r,k = confusion_matrix.shape\n",
    "    phi2corr = max(0, phi2-((k-1)*(r-1))/(n-1))\n",
    "    rcorr = r-((r-1)**2)/(n-1)\n",
    "    kcorr = k-((k-1)**2)/(n-1)\n",
    "    return np.sqrt(phi2corr/min((kcorr-1),(rcorr-1)))"
   ]
  },
  {
   "cell_type": "code",
   "execution_count": 91,
   "id": "7c5d525a-74cb-435c-b5a1-527ac5e1e3d6",
   "metadata": {},
   "outputs": [],
   "source": [
    "train['last_lead'] = train['last_lead'].astype('int')\n",
    "test['last_lead'] = test['last_lead'].astype('int')"
   ]
  },
  {
   "cell_type": "code",
   "execution_count": 92,
   "id": "3fd66d47-e1c9-4e01-a949-bb9cfc93af99",
   "metadata": {},
   "outputs": [],
   "source": [
    "train.loc[train['signup_date'].isnull() , 'products_purchased'] = 0\n",
    "test.loc[test['signup_date'].isnull() , 'products_purchased'] = 0"
   ]
  },
  {
   "cell_type": "code",
   "execution_count": 69,
   "id": "51489716-916c-4923-9f77-010e13e14379",
   "metadata": {},
   "outputs": [],
   "source": [
    "train.loc[train['products_purchased'].isnull() , 'products_purchased'] = 1\n",
    "test.loc[test['products_purchased'].isnull() , 'products_purchased'] = 1"
   ]
  },
  {
   "cell_type": "code",
   "execution_count": 71,
   "id": "f5f13a0c-6d81-4c60-b609-394d74168d98",
   "metadata": {},
   "outputs": [
    {
     "data": {
      "text/plain": [
       "id                          0\n",
       "created_at                  0\n",
       "campaign_var_1              0\n",
       "campaign_var_2              0\n",
       "products_purchased          0\n",
       "signup_date             15113\n",
       "user_activity_var_1         0\n",
       "user_activity_var_2         0\n",
       "user_activity_var_3         0\n",
       "user_activity_var_4         0\n",
       "user_activity_var_5         0\n",
       "user_activity_var_6         0\n",
       "user_activity_var_7         0\n",
       "user_activity_var_8         0\n",
       "user_activity_var_9         0\n",
       "user_activity_var_10        0\n",
       "user_activity_var_11        0\n",
       "user_activity_var_12        0\n",
       "buy                         0\n",
       "last_lead                   0\n",
       "dtype: int64"
      ]
     },
     "execution_count": 71,
     "metadata": {},
     "output_type": "execute_result"
    }
   ],
   "source": [
    "train.isnull().sum()"
   ]
  },
  {
   "cell_type": "code",
   "execution_count": null,
   "id": "7d53d985-0032-4fcf-9520-e3392573d312",
   "metadata": {},
   "outputs": [],
   "source": []
  },
  {
   "cell_type": "code",
   "execution_count": 419,
   "id": "480e3985-74ec-4140-acb5-3ef61e4c6281",
   "metadata": {},
   "outputs": [
    {
     "name": "stdout",
     "output_type": "stream",
     "text": [
      "campaign_var_1 : 0.08889827938655041\n",
      "campaign_var_2 : 0.09555762684336691\n",
      "products_purchased : 0.19010331053454008\n",
      "user_activity_var_1 : 0.05354753689482219\n",
      "user_activity_var_2 : 0.3538850631715588\n",
      "user_activity_var_3 : 0.0\n",
      "user_activity_var_4 : 0.3941334384683621\n",
      "user_activity_var_5 : 0.17923762971857568\n",
      "user_activity_var_6 : 0.008409502141363205\n",
      "user_activity_var_7 : 0.027987568006274905\n",
      "user_activity_var_8 : 0.09711593514105682\n",
      "user_activity_var_9 : 0.46337958015948244\n",
      "user_activity_var_10 : 0.08130151963781729\n",
      "user_activity_var_11 : 0.37505167815364615\n",
      "user_activity_var_12 : 0.06532375683956304\n",
      "last_lead : 0.019178438296359977\n",
      "month : 0.01877726831882949\n"
     ]
    }
   ],
   "source": [
    "for var in train.drop(['id', 'created_at','signup_date','buy'], axis = 1).columns:\n",
    "    a = cramers_v(train[var],train['buy'])\n",
    "    print('{0} : {1}'.format(var,a))"
   ]
  },
  {
   "cell_type": "code",
   "execution_count": 9,
   "id": "fd48fde8-c294-4618-a5a8-a4280070fafb",
   "metadata": {},
   "outputs": [],
   "source": [
    "skf = StratifiedKFold(n_splits=5, random_state=42,shuffle=True)"
   ]
  },
  {
   "cell_type": "code",
   "execution_count": 40,
   "id": "36e94f42-26f0-4247-a1ca-9d875614d4a3",
   "metadata": {},
   "outputs": [],
   "source": [
    "est = catboost.CatBoostClassifier(random_state=42)"
   ]
  },
  {
   "cell_type": "code",
   "execution_count": 41,
   "id": "e1519632-a104-4b9d-ad76-f8288ab8e19a",
   "metadata": {},
   "outputs": [],
   "source": [
    "distributions = {\n",
    "                    'learning_rate': [0.1,0.2,0.3, 0.01,0.02,0.03,0.5,0.04], \n",
    "                    'max_depth': [1,2,3,4,5,6,7,8,9,10,11], \n",
    "                    'loss_function': ['Logloss'],\n",
    "                    'custom_metric':['F1'],\n",
    "                    'scale_pos_weight': [2,2.5,3,3.5,4],\n",
    "                    'min_data_in_leaf': [30,40,50,60,70,80,90],\n",
    "                    'l2_leaf_reg': [1,4,9],\n",
    "                    'subsample': [0.5,0.6,0.7,0.8],\n",
    "                    'colsample_bylevel': [0.5,0.6,0.7,0.8]\n",
    "                    \n",
    "}"
   ]
  },
  {
   "cell_type": "code",
   "execution_count": 42,
   "id": "4fb19f74-3030-40d6-986e-f2f3265903c0",
   "metadata": {},
   "outputs": [],
   "source": [
    "clf = RandomizedSearchCV(est, distributions, n_iter=10, cv= skf, scoring='f1', random_state=42)"
   ]
  },
  {
   "cell_type": "code",
   "execution_count": 43,
   "id": "3e941004-c2e6-41a1-b803-019b5430eaa6",
   "metadata": {},
   "outputs": [
    {
     "name": "stdout",
     "output_type": "stream",
     "text": [
      "0:\tlearn: 0.6535324\ttotal: 10.5ms\tremaining: 10.5s\n",
      "500:\tlearn: 0.1778626\ttotal: 7.03s\tremaining: 7s\n",
      "999:\tlearn: 0.1669772\ttotal: 14.8s\tremaining: 0us\n",
      "0:\tlearn: 0.6540282\ttotal: 18.9ms\tremaining: 18.9s\n",
      "500:\tlearn: 0.1785026\ttotal: 7.37s\tremaining: 7.34s\n",
      "999:\tlearn: 0.1675430\ttotal: 14.3s\tremaining: 0us\n",
      "0:\tlearn: 0.6537909\ttotal: 17.1ms\tremaining: 17s\n",
      "500:\tlearn: 0.1761228\ttotal: 7.24s\tremaining: 7.21s\n",
      "999:\tlearn: 0.1653743\ttotal: 15.1s\tremaining: 0us\n",
      "0:\tlearn: 0.6535051\ttotal: 18.1ms\tremaining: 18.1s\n",
      "500:\tlearn: 0.1784366\ttotal: 8.26s\tremaining: 8.23s\n",
      "999:\tlearn: 0.1680791\ttotal: 15.3s\tremaining: 0us\n",
      "0:\tlearn: 0.6540160\ttotal: 18.5ms\tremaining: 18.5s\n",
      "500:\tlearn: 0.1808037\ttotal: 7.19s\tremaining: 7.16s\n",
      "999:\tlearn: 0.1694687\ttotal: 14.5s\tremaining: 0us\n",
      "0:\tlearn: 0.6438624\ttotal: 21ms\tremaining: 21s\n",
      "500:\tlearn: 0.1292991\ttotal: 9.79s\tremaining: 9.75s\n",
      "999:\tlearn: 0.1164493\ttotal: 19.6s\tremaining: 0us\n",
      "0:\tlearn: 0.6414092\ttotal: 21.5ms\tremaining: 21.4s\n",
      "500:\tlearn: 0.1289154\ttotal: 10s\tremaining: 9.98s\n",
      "999:\tlearn: 0.1147166\ttotal: 20.2s\tremaining: 0us\n",
      "0:\tlearn: 0.6411290\ttotal: 24.7ms\tremaining: 24.7s\n",
      "500:\tlearn: 0.1279308\ttotal: 10.1s\tremaining: 10s\n",
      "999:\tlearn: 0.1142876\ttotal: 19.5s\tremaining: 0us\n",
      "0:\tlearn: 0.6440690\ttotal: 20.6ms\tremaining: 20.6s\n",
      "500:\tlearn: 0.1296652\ttotal: 9.95s\tremaining: 9.91s\n",
      "999:\tlearn: 0.1157392\ttotal: 20s\tremaining: 0us\n",
      "0:\tlearn: 0.6443701\ttotal: 42ms\tremaining: 42s\n",
      "500:\tlearn: 0.1309632\ttotal: 9.99s\tremaining: 9.95s\n",
      "999:\tlearn: 0.1170742\ttotal: 19.9s\tremaining: 0us\n",
      "0:\tlearn: 0.6544301\ttotal: 38.1ms\tremaining: 38s\n",
      "500:\tlearn: 0.1229708\ttotal: 16.9s\tremaining: 16.9s\n",
      "999:\tlearn: 0.0910218\ttotal: 33.4s\tremaining: 0us\n",
      "0:\tlearn: 0.6545513\ttotal: 33.8ms\tremaining: 33.7s\n",
      "500:\tlearn: 0.1234678\ttotal: 17.2s\tremaining: 17.1s\n",
      "999:\tlearn: 0.0902214\ttotal: 34.8s\tremaining: 0us\n",
      "0:\tlearn: 0.6526790\ttotal: 40.9ms\tremaining: 40.8s\n",
      "500:\tlearn: 0.1223520\ttotal: 18.2s\tremaining: 18.2s\n",
      "999:\tlearn: 0.0890250\ttotal: 36.6s\tremaining: 0us\n",
      "0:\tlearn: 0.6550646\ttotal: 22.5ms\tremaining: 22.4s\n",
      "500:\tlearn: 0.1225487\ttotal: 17.9s\tremaining: 17.9s\n",
      "999:\tlearn: 0.0881751\ttotal: 36.2s\tremaining: 0us\n",
      "0:\tlearn: 0.6552488\ttotal: 32.9ms\tremaining: 32.9s\n",
      "500:\tlearn: 0.1260898\ttotal: 17.6s\tremaining: 17.5s\n",
      "999:\tlearn: 0.0923199\ttotal: 35.5s\tremaining: 0us\n",
      "0:\tlearn: 0.6820111\ttotal: 21ms\tremaining: 21s\n",
      "500:\tlearn: 0.1853053\ttotal: 9.43s\tremaining: 9.39s\n",
      "999:\tlearn: 0.1740158\ttotal: 18.6s\tremaining: 0us\n",
      "0:\tlearn: 0.6820193\ttotal: 22.7ms\tremaining: 22.7s\n",
      "500:\tlearn: 0.1860969\ttotal: 9.57s\tremaining: 9.53s\n",
      "999:\tlearn: 0.1744885\ttotal: 18.7s\tremaining: 0us\n",
      "0:\tlearn: 0.6819172\ttotal: 20.8ms\tremaining: 20.7s\n",
      "500:\tlearn: 0.1837533\ttotal: 9.09s\tremaining: 9.05s\n",
      "999:\tlearn: 0.1721332\ttotal: 18.5s\tremaining: 0us\n",
      "0:\tlearn: 0.6820704\ttotal: 18.3ms\tremaining: 18.3s\n",
      "500:\tlearn: 0.1859210\ttotal: 9.74s\tremaining: 9.7s\n",
      "999:\tlearn: 0.1741514\ttotal: 19s\tremaining: 0us\n",
      "0:\tlearn: 0.6821516\ttotal: 21.7ms\tremaining: 21.6s\n",
      "500:\tlearn: 0.1884837\ttotal: 10s\tremaining: 9.99s\n",
      "999:\tlearn: 0.1765615\ttotal: 19.2s\tremaining: 0us\n",
      "0:\tlearn: 0.6533952\ttotal: 69.2ms\tremaining: 1m 9s\n",
      "500:\tlearn: 0.0801839\ttotal: 34.5s\tremaining: 34.3s\n",
      "999:\tlearn: 0.0397868\ttotal: 1m 10s\tremaining: 0us\n",
      "0:\tlearn: 0.6468411\ttotal: 85.1ms\tremaining: 1m 24s\n",
      "500:\tlearn: 0.0805891\ttotal: 32.8s\tremaining: 32.7s\n",
      "999:\tlearn: 0.0378722\ttotal: 1m 7s\tremaining: 0us\n",
      "0:\tlearn: 0.6462570\ttotal: 66.7ms\tremaining: 1m 6s\n",
      "500:\tlearn: 0.0772310\ttotal: 33s\tremaining: 32.8s\n",
      "999:\tlearn: 0.0378887\ttotal: 1m 9s\tremaining: 0us\n",
      "0:\tlearn: 0.6538515\ttotal: 74ms\tremaining: 1m 13s\n",
      "500:\tlearn: 0.0784387\ttotal: 36.8s\tremaining: 36.6s\n",
      "999:\tlearn: 0.0375041\ttotal: 1m 13s\tremaining: 0us\n",
      "0:\tlearn: 0.6541013\ttotal: 75.1ms\tremaining: 1m 15s\n",
      "500:\tlearn: 0.0835247\ttotal: 34.2s\tremaining: 34.1s\n",
      "999:\tlearn: 0.0417104\ttotal: 1m 7s\tremaining: 0us\n",
      "0:\tlearn: 0.6401347\ttotal: 27.7ms\tremaining: 27.7s\n",
      "500:\tlearn: 0.1236082\ttotal: 15.8s\tremaining: 15.7s\n",
      "999:\tlearn: 0.1006302\ttotal: 29.9s\tremaining: 0us\n",
      "0:\tlearn: 0.6445457\ttotal: 23.8ms\tremaining: 23.8s\n",
      "500:\tlearn: 0.1243518\ttotal: 13.9s\tremaining: 13.8s\n",
      "999:\tlearn: 0.0992708\ttotal: 28.6s\tremaining: 0us\n",
      "0:\tlearn: 0.6400987\ttotal: 29ms\tremaining: 29s\n",
      "500:\tlearn: 0.1223968\ttotal: 13.5s\tremaining: 13.5s\n",
      "999:\tlearn: 0.0977183\ttotal: 27.2s\tremaining: 0us\n",
      "0:\tlearn: 0.6446625\ttotal: 70.8ms\tremaining: 1m 10s\n",
      "500:\tlearn: 0.1235486\ttotal: 13.7s\tremaining: 13.7s\n",
      "999:\tlearn: 0.0977783\ttotal: 27.8s\tremaining: 0us\n",
      "0:\tlearn: 0.6413217\ttotal: 33.6ms\tremaining: 33.5s\n",
      "500:\tlearn: 0.1252934\ttotal: 13.9s\tremaining: 13.8s\n",
      "999:\tlearn: 0.1004484\ttotal: 27.7s\tremaining: 0us\n",
      "0:\tlearn: 0.6768186\ttotal: 59.2ms\tremaining: 59.1s\n",
      "500:\tlearn: 0.1377870\ttotal: 18.3s\tremaining: 18.3s\n",
      "999:\tlearn: 0.1213105\ttotal: 35.2s\tremaining: 0us\n",
      "0:\tlearn: 0.6768970\ttotal: 62.3ms\tremaining: 1m 2s\n",
      "500:\tlearn: 0.1381913\ttotal: 15.6s\tremaining: 15.6s\n",
      "999:\tlearn: 0.1221198\ttotal: 32.7s\tremaining: 0us\n",
      "0:\tlearn: 0.6765760\ttotal: 68.9ms\tremaining: 1m 8s\n",
      "500:\tlearn: 0.1367750\ttotal: 17.3s\tremaining: 17.2s\n",
      "999:\tlearn: 0.1205949\ttotal: 33.9s\tremaining: 0us\n",
      "0:\tlearn: 0.6769061\ttotal: 59.3ms\tremaining: 59.2s\n",
      "500:\tlearn: 0.1381813\ttotal: 17.1s\tremaining: 17.1s\n",
      "999:\tlearn: 0.1212501\ttotal: 34.5s\tremaining: 0us\n",
      "0:\tlearn: 0.6767406\ttotal: 45.1ms\tremaining: 45s\n",
      "500:\tlearn: 0.1404763\ttotal: 17.6s\tremaining: 17.5s\n",
      "999:\tlearn: 0.1241302\ttotal: 35s\tremaining: 0us\n",
      "0:\tlearn: 0.5479676\ttotal: 18.1ms\tremaining: 18.1s\n",
      "500:\tlearn: 0.1712635\ttotal: 8.17s\tremaining: 8.13s\n",
      "999:\tlearn: 0.1637066\ttotal: 15.4s\tremaining: 0us\n",
      "0:\tlearn: 0.5452823\ttotal: 17.9ms\tremaining: 17.9s\n",
      "500:\tlearn: 0.1705784\ttotal: 7.31s\tremaining: 7.28s\n",
      "999:\tlearn: 0.1623240\ttotal: 14.4s\tremaining: 0us\n",
      "0:\tlearn: 0.5452132\ttotal: 12.2ms\tremaining: 12.2s\n",
      "500:\tlearn: 0.1675089\ttotal: 6.52s\tremaining: 6.5s\n",
      "999:\tlearn: 0.1597257\ttotal: 13.5s\tremaining: 0us\n",
      "0:\tlearn: 0.5457035\ttotal: 17.6ms\tremaining: 17.6s\n",
      "500:\tlearn: 0.1707517\ttotal: 6.82s\tremaining: 6.79s\n",
      "999:\tlearn: 0.1623251\ttotal: 14s\tremaining: 0us\n",
      "0:\tlearn: 0.5493461\ttotal: 18.8ms\tremaining: 18.8s\n",
      "500:\tlearn: 0.1745281\ttotal: 6.7s\tremaining: 6.68s\n",
      "999:\tlearn: 0.1662024\ttotal: 13.5s\tremaining: 0us\n",
      "0:\tlearn: 0.5611223\ttotal: 46.9ms\tremaining: 46.8s\n",
      "500:\tlearn: 0.0502697\ttotal: 22.6s\tremaining: 22.5s\n",
      "999:\tlearn: 0.0225871\ttotal: 46.5s\tremaining: 0us\n",
      "0:\tlearn: 0.5617610\ttotal: 48.5ms\tremaining: 48.4s\n",
      "500:\tlearn: 0.0478149\ttotal: 24.2s\tremaining: 24.1s\n",
      "999:\tlearn: 0.0211209\ttotal: 48.4s\tremaining: 0us\n",
      "0:\tlearn: 0.5605087\ttotal: 48.3ms\tremaining: 48.2s\n",
      "500:\tlearn: 0.0466714\ttotal: 24.4s\tremaining: 24.3s\n",
      "999:\tlearn: 0.0210285\ttotal: 48.7s\tremaining: 0us\n",
      "0:\tlearn: 0.5621932\ttotal: 49.1ms\tremaining: 49.1s\n",
      "500:\tlearn: 0.0450062\ttotal: 24.5s\tremaining: 24.4s\n",
      "999:\tlearn: 0.0210913\ttotal: 48.7s\tremaining: 0us\n",
      "0:\tlearn: 0.5601121\ttotal: 49.9ms\tremaining: 49.9s\n",
      "500:\tlearn: 0.0485961\ttotal: 24.3s\tremaining: 24.2s\n",
      "999:\tlearn: 0.0226430\ttotal: 48.5s\tremaining: 0us\n",
      "0:\tlearn: 0.4901751\ttotal: 21ms\tremaining: 21s\n",
      "500:\tlearn: 0.1178570\ttotal: 8.55s\tremaining: 8.52s\n",
      "999:\tlearn: 0.1021965\ttotal: 17.2s\tremaining: 0us\n",
      "0:\tlearn: 0.4911095\ttotal: 23.6ms\tremaining: 23.6s\n",
      "500:\tlearn: 0.1179369\ttotal: 8.22s\tremaining: 8.19s\n",
      "999:\tlearn: 0.1013059\ttotal: 16.4s\tremaining: 0us\n",
      "0:\tlearn: 0.4902808\ttotal: 19.6ms\tremaining: 19.5s\n",
      "500:\tlearn: 0.1169644\ttotal: 8.51s\tremaining: 8.48s\n",
      "999:\tlearn: 0.1004299\ttotal: 17.2s\tremaining: 0us\n",
      "0:\tlearn: 0.4901153\ttotal: 20.3ms\tremaining: 20.3s\n",
      "500:\tlearn: 0.1177095\ttotal: 8.48s\tremaining: 8.44s\n",
      "999:\tlearn: 0.1012409\ttotal: 17s\tremaining: 0us\n",
      "0:\tlearn: 0.4920202\ttotal: 20.2ms\tremaining: 20.1s\n",
      "500:\tlearn: 0.1201182\ttotal: 8.57s\tremaining: 8.54s\n",
      "999:\tlearn: 0.1044132\ttotal: 17.2s\tremaining: 0us\n",
      "0:\tlearn: 0.6767637\ttotal: 41.3ms\tremaining: 41.3s\n",
      "500:\tlearn: 0.1399863\ttotal: 19.6s\tremaining: 19.6s\n",
      "999:\tlearn: 0.1249173\ttotal: 39.1s\tremaining: 0us\n"
     ]
    },
    {
     "data": {
      "text/plain": [
       "RandomizedSearchCV(cv=StratifiedKFold(n_splits=5, random_state=42, shuffle=True),\n",
       "                   estimator=<catboost.core.CatBoostClassifier object at 0x00000258D61194C0>,\n",
       "                   param_distributions={'colsample_bylevel': [0.5, 0.6, 0.7,\n",
       "                                                              0.8],\n",
       "                                        'custom_metric': ['F1'],\n",
       "                                        'l2_leaf_reg': [1, 4, 9],\n",
       "                                        'learning_rate': [0.1, 0.2, 0.3, 0.01,\n",
       "                                                          0.02, 0.03, 0.5,\n",
       "                                                          0.04],\n",
       "                                        'loss_function': ['Logloss'],\n",
       "                                        'max_depth': [1, 2, 3, 4, 5, 6, 7, 8, 9,\n",
       "                                                      10, 11],\n",
       "                                        'min_data_in_leaf': [30, 40, 50, 60, 70,\n",
       "                                                             80, 90],\n",
       "                                        'scale_pos_weight': [2, 2.5, 3, 3.5, 4],\n",
       "                                        'subsample': [0.5, 0.6, 0.7, 0.8]},\n",
       "                   random_state=42, scoring='f1')"
      ]
     },
     "execution_count": 43,
     "metadata": {},
     "output_type": "execute_result"
    }
   ],
   "source": [
    "clf.fit(train.drop(['id','created_at','signup_date','buy','user_activity_var_10', 'user_activity_var_12'],axis=1), train['buy'], verbose=500, early_stopping_rounds=100)"
   ]
  },
  {
   "cell_type": "code",
   "execution_count": 45,
   "id": "4c4a1635-709c-4afd-b077-2fc6978d4881",
   "metadata": {},
   "outputs": [
    {
     "data": {
      "text/plain": [
       "({'subsample': 0.7,\n",
       "  'scale_pos_weight': 2.5,\n",
       "  'min_data_in_leaf': 30,\n",
       "  'max_depth': 8,\n",
       "  'loss_function': 'Logloss',\n",
       "  'learning_rate': 0.01,\n",
       "  'l2_leaf_reg': 4,\n",
       "  'custom_metric': 'F1',\n",
       "  'colsample_bylevel': 0.6},\n",
       " 0.7017028519206174)"
      ]
     },
     "execution_count": 45,
     "metadata": {},
     "output_type": "execute_result"
    }
   ],
   "source": [
    "clf.best_params_, clf.best_score_"
   ]
  },
  {
   "cell_type": "code",
   "execution_count": 16,
   "id": "b7420d2b-ee28-4725-af1f-8b1c883474c6",
   "metadata": {},
   "outputs": [
    {
     "data": {
      "text/plain": [
       "dict_keys(['explained_variance', 'r2', 'max_error', 'neg_median_absolute_error', 'neg_mean_absolute_error', 'neg_mean_absolute_percentage_error', 'neg_mean_squared_error', 'neg_mean_squared_log_error', 'neg_root_mean_squared_error', 'neg_mean_poisson_deviance', 'neg_mean_gamma_deviance', 'accuracy', 'top_k_accuracy', 'roc_auc', 'roc_auc_ovr', 'roc_auc_ovo', 'roc_auc_ovr_weighted', 'roc_auc_ovo_weighted', 'balanced_accuracy', 'average_precision', 'neg_log_loss', 'neg_brier_score', 'adjusted_rand_score', 'rand_score', 'homogeneity_score', 'completeness_score', 'v_measure_score', 'mutual_info_score', 'adjusted_mutual_info_score', 'normalized_mutual_info_score', 'fowlkes_mallows_score', 'precision', 'precision_macro', 'precision_micro', 'precision_samples', 'precision_weighted', 'recall', 'recall_macro', 'recall_micro', 'recall_samples', 'recall_weighted', 'f1', 'f1_macro', 'f1_micro', 'f1_samples', 'f1_weighted', 'jaccard', 'jaccard_macro', 'jaccard_micro', 'jaccard_samples', 'jaccard_weighted'])"
      ]
     },
     "execution_count": 16,
     "metadata": {},
     "output_type": "execute_result"
    }
   ],
   "source": [
    "metrics.SCORERS.keys()"
   ]
  },
  {
   "cell_type": "code",
   "execution_count": null,
   "id": "e3dc40fa-095d-4fc9-b949-c28c85c031c4",
   "metadata": {},
   "outputs": [],
   "source": []
  },
  {
   "cell_type": "code",
   "execution_count": 72,
   "id": "13123f58-986a-4508-b165-a0d89830310a",
   "metadata": {},
   "outputs": [],
   "source": [
    "def plot_feature_importance(importance,names,model_type):\n",
    "    \n",
    "    #Create arrays from feature importance and feature names\n",
    "    feature_importance = np.array(importance)\n",
    "    feature_names = np.array(names)\n",
    "    \n",
    "    #Create a DataFrame using a Dictionary\n",
    "    data={'feature_names':feature_names,'feature_importance':feature_importance}\n",
    "    fi_df = pd.DataFrame(data)\n",
    "    \n",
    "    #Sort the DataFrame in order decreasing feature importance\n",
    "    fi_df.sort_values(by=['feature_importance'], ascending=False,inplace=True)\n",
    "    \n",
    "    #Define size of bar plot\n",
    "    plt.figure(figsize=(10,8))\n",
    "    #Plot Searborn bar chart\n",
    "    sns.barplot(x=fi_df['feature_importance'], y=fi_df['feature_names'])\n",
    "    #Add chart labels\n",
    "    plt.title(model_type + 'FEATURE IMPORTANCE')\n",
    "    plt.xlabel('FEATURE IMPORTANCE')\n",
    "    plt.ylabel('FEATURE NAMES')"
   ]
  },
  {
   "cell_type": "code",
   "execution_count": 97,
   "id": "fe34252d-2b8f-43da-9f74-a271658fb35d",
   "metadata": {},
   "outputs": [],
   "source": [
    "def train_and_evaluate(train, test, params):\n",
    "    \n",
    "    \n",
    "    \n",
    "    \n",
    "    # Split features and target\n",
    "    #x = train[['user_activity_var_2','user_activity_var_4','user_activity_var_5','user_activity_var_9','user_activity_var_11','products_purchased']]\n",
    "    x = train.drop(['id','created_at','signup_date','buy','user_activity_var_10', 'user_activity_var_12'],axis=1)\n",
    "    y = train['buy']\n",
    "    #x_test = test[['user_activity_var_2','user_activity_var_4','user_activity_var_5','user_activity_var_9','user_activity_var_11','products_purchased']]\n",
    "    x_test = test.drop(['id','created_at','signup_date','user_activity_var_10', 'user_activity_var_12'],axis=1)\n",
    "    #print(x.shape[0])\n",
    "    # Create out of folds array\n",
    "    oof_predictions = np.zeros(x.shape[0])\n",
    "    # Create test array to store predictions\n",
    "    test_predictions = np.zeros(x_test.shape[0])\n",
    "    \n",
    "    oof_predictions1 = np.zeros(x.shape[0])\n",
    "    # Create test array to store predictions\n",
    "    test_predictions1 = np.zeros(x_test.shape[0])\n",
    "    \n",
    "    oof_predictions2 = np.zeros(x.shape[0])\n",
    "    # Create test array to store predictions\n",
    "    test_predictions2 = np.zeros(x_test.shape[0])\n",
    "    \n",
    "    # Create a KFold object\n",
    "    kfold = StratifiedKFold(n_splits = 5, random_state = 66, shuffle = True)\n",
    "    # Iterate through each fold\n",
    "    for fold, (trn_ind, val_ind) in enumerate(kfold.split(x, y=y.values)):\n",
    "        print(f'Training fold {fold + 1}')\n",
    "        x_train, x_val = x.iloc[trn_ind], x.iloc[val_ind]\n",
    "        y_train, y_val = y.iloc[trn_ind], y.iloc[val_ind]\n",
    "        \n",
    "        \n",
    "        #model = LogisticRegression(random_state=42, max_iter=1000, class_weight={0:.2, 1:.8})\n",
    "        \n",
    "        #model1 = lightgbm.LGBMClassifier(objective='binary', random_state=42, min_gain_to_split=3,num_leaves=100,scale_pos_weight=3,\n",
    "        #                                 metric='binary_logloss',\n",
    "        #                                 learning_rate=0.1, n_estimators=1000, max_depth=5, subsample=0.8 )\n",
    "        \n",
    "        #model = GaussianNB()\n",
    "        #model = catboost.CatBoostClassifier(random_seed=42, eval_metric='F1',  loss_function='Logloss',\n",
    "        #                                    custom_metric=['F1'], bagging_temperature=0.5, l2_leaf_reg=0.5,\n",
    "        #                                    verbose=500,learning_rate=0.1, max_depth=5,scale_pos_weight=3)\n",
    "        model = catboost.CatBoostClassifier(**params)\n",
    "        #model2 = xgboost.XGBClassifier(objective='binary:logistic', learning_rate=0.1, random_state=42,max_depth=5,\n",
    "        #                               n_estimators=1000, use_label_encoder=False, scale_pos_weight=3)\n",
    "        \n",
    "        #model2 = DecisionTreeClassifier(random_state=42, max_depth=7)\n",
    "        \n",
    "        '''\n",
    "        for col in x.columns:\n",
    "            encoder = MEstimateEncoder(m=3.5)\n",
    "            encoder.fit(x_train[col], y_train)\n",
    "            x_train[col] = encoder.transform(x_train[col])\n",
    "            x_val[col] = encoder.transform(x_val[col])\n",
    "            x_test[col] = encoder.transform(x_test[col])\n",
    "            \n",
    "        '''\n",
    "        \n",
    "        model.fit(x_train, y_train, early_stopping_rounds=50, eval_set=(x_val, y_val), use_best_model=True)\n",
    "        #model.fit(x_train, y_train)\n",
    "        \n",
    "        #model1.fit(x_train, y_train, early_stopping_rounds=50, eval_set=(x_val, y_val), verbose=500)\n",
    "        \n",
    "        #model2.fit(x_train, y_train, early_stopping_rounds=50, eval_set=[(x_train, y_train), (x_val, y_val)], verbose=500)\n",
    "        \n",
    "        #model.fit(x_train, y_train)\n",
    "        \n",
    "        #val_pred = model.predict_proba(x_val)\n",
    "        \n",
    "        val_pred = model.predict(x_val)\n",
    "        \n",
    "        #val_pred1 = model1.predict(x_val)\n",
    "        \n",
    "        #val_pred2 = model2.predict(x_val)\n",
    "        print(val_pred)\n",
    "        \n",
    "        #val = np.argmax(val_pred, axis=1)\n",
    "        \n",
    "        # Add predictions to the out of folds array\n",
    "        \n",
    "        oof_predictions[val_ind] =  val_pred\n",
    "        \n",
    "        #oof_predictions1[val_ind] =  val_pred1\n",
    "        \n",
    "        #oof_predictions2[val_ind] =  val_pred2\n",
    "        \n",
    "        \n",
    "        # Predict the test set\n",
    "        \n",
    "        #xgb_pred = np.argmax(model.predict_proba(x_test), axis=1)\n",
    "        pred = model.predict(x_test)\n",
    "        \n",
    "        #pred1 = model1.predict(x_test)\n",
    "        \n",
    "        #pred2 = model2.predict(x_test)\n",
    "        \n",
    "        #plot_feature_importance(model1.feature_importances_, x.columns,'CAT BOOST')\n",
    "        \n",
    "        \n",
    "        test_predictions += pred\n",
    "        \n",
    "        #test_predictions1 += pred1\n",
    "        \n",
    "        #test_predictions2 += pred2\n",
    "        \n",
    "        \n",
    "        \n",
    "        \n",
    "        \n",
    "    score = metrics.f1_score(y, oof_predictions)\n",
    "    #score1 = metrics.f1_score(y, oof_predictions1)\n",
    "    #score2 = metrics.f1_score(y, oof_predictions2)\n",
    "    \n",
    "    \n",
    "    \n",
    "    precision = metrics.precision_score(y, oof_predictions)\n",
    "    \n",
    "    recall = metrics.recall_score(y, oof_predictions)\n",
    "    print(f'Our out of folds f1 score is {score}')\n",
    "    #print(f'Our out of folds f1 score is {score1}')\n",
    "    #print(f'Our out of folds f1 score is {score2}')\n",
    "    #print(f'Our out of folds precision score is {precision}')\n",
    "    #print(f'Our out of folds recall score is {recall}')\n",
    "    \n",
    "    #print(metrics.confusion_matrix(train['buy'], oof_predictions))\n",
    "    return score\n",
    "    # Return test predictions\n",
    "    #return [round(x/5) for x in test_predictions]\n",
    "    #return [round(x/5) for x in test_predictions],oof_predictions,[round(x/5) for x in test_predictions1],oof_predictions1,[round(x/5) for x in test_predictions2],oof_predictions2"
   ]
  },
  {
   "cell_type": "code",
   "execution_count": 96,
   "id": "e0420fa7-a837-444a-ab3d-f76e982a43eb",
   "metadata": {},
   "outputs": [
    {
     "name": "stdout",
     "output_type": "stream",
     "text": [
      "Training fold 1\n",
      "0:\tlearn: 0.6884980\ttest: 0.6829268\tbest: 0.6829268 (0)\ttotal: 18.3ms\tremaining: 18.3s\n",
      "Stopped by overfitting detector  (50 iterations wait)\n",
      "\n",
      "bestTest = 0.745490982\n",
      "bestIteration = 114\n",
      "\n",
      "Shrink model to first 115 iterations.\n",
      "[LightGBM] [Warning] min_gain_to_split is set=3, min_split_gain=0.0 will be ignored. Current value: min_gain_to_split=3\n",
      "Training until validation scores don't improve for 50 rounds\n",
      "Early stopping, best iteration is:\n",
      "[90]\tvalid_0's binary_logloss: 0.0992058\n",
      "[12:41:05] WARNING: C:/Users/Administrator/workspace/xgboost-win64_release_1.4.0/src/learner.cc:1095: Starting in XGBoost 1.3.0, the default evaluation metric used with the objective 'binary:logistic' was changed from 'error' to 'logloss'. Explicitly set eval_metric if you'd like to restore the old behavior.\n",
      "[0]\tvalidation_0-logloss:0.61417\tvalidation_1-logloss:0.61422\n",
      "[299]\tvalidation_0-logloss:0.07722\tvalidation_1-logloss:0.09774\n",
      "[0 0 0 ... 0 0 0]\n",
      "Training fold 2\n",
      "0:\tlearn: 0.6842034\ttest: 0.7000000\tbest: 0.7000000 (0)\ttotal: 14.5ms\tremaining: 14.5s\n",
      "Stopped by overfitting detector  (50 iterations wait)\n",
      "\n",
      "bestTest = 0.7294361097\n",
      "bestIteration = 15\n",
      "\n",
      "Shrink model to first 16 iterations.\n",
      "[LightGBM] [Warning] min_gain_to_split is set=3, min_split_gain=0.0 will be ignored. Current value: min_gain_to_split=3\n",
      "Training until validation scores don't improve for 50 rounds\n",
      "Early stopping, best iteration is:\n",
      "[87]\tvalid_0's binary_logloss: 0.102231\n",
      "[12:41:10] WARNING: C:/Users/Administrator/workspace/xgboost-win64_release_1.4.0/src/learner.cc:1095: Starting in XGBoost 1.3.0, the default evaluation metric used with the objective 'binary:logistic' was changed from 'error' to 'logloss'. Explicitly set eval_metric if you'd like to restore the old behavior.\n",
      "[0]\tvalidation_0-logloss:0.61433\tvalidation_1-logloss:0.61427\n",
      "[258]\tvalidation_0-logloss:0.07927\tvalidation_1-logloss:0.10059\n",
      "[0 0 0 ... 0 0 0]\n",
      "Training fold 3\n",
      "0:\tlearn: 0.6118591\ttest: 0.6340641\tbest: 0.6340641 (0)\ttotal: 13.6ms\tremaining: 13.6s\n",
      "Stopped by overfitting detector  (50 iterations wait)\n",
      "\n",
      "bestTest = 0.748496994\n",
      "bestIteration = 112\n",
      "\n",
      "Shrink model to first 113 iterations.\n",
      "[LightGBM] [Warning] min_gain_to_split is set=3, min_split_gain=0.0 will be ignored. Current value: min_gain_to_split=3\n",
      "Training until validation scores don't improve for 50 rounds\n",
      "Early stopping, best iteration is:\n",
      "[95]\tvalid_0's binary_logloss: 0.0989518\n",
      "[12:41:15] WARNING: C:/Users/Administrator/workspace/xgboost-win64_release_1.4.0/src/learner.cc:1095: Starting in XGBoost 1.3.0, the default evaluation metric used with the objective 'binary:logistic' was changed from 'error' to 'logloss'. Explicitly set eval_metric if you'd like to restore the old behavior.\n",
      "[0]\tvalidation_0-logloss:0.61433\tvalidation_1-logloss:0.61416\n",
      "[172]\tvalidation_0-logloss:0.08848\tvalidation_1-logloss:0.09887\n",
      "[0 0 0 ... 1 0 0]\n",
      "Training fold 4\n",
      "0:\tlearn: 0.6890030\ttest: 0.6765189\tbest: 0.6765189 (0)\ttotal: 13.6ms\tremaining: 13.6s\n",
      "Stopped by overfitting detector  (50 iterations wait)\n",
      "\n",
      "bestTest = 0.7582748245\n",
      "bestIteration = 102\n",
      "\n",
      "Shrink model to first 103 iterations.\n",
      "[LightGBM] [Warning] min_gain_to_split is set=3, min_split_gain=0.0 will be ignored. Current value: min_gain_to_split=3\n",
      "Training until validation scores don't improve for 50 rounds\n",
      "Early stopping, best iteration is:\n",
      "[96]\tvalid_0's binary_logloss: 0.101336\n",
      "[12:41:19] WARNING: C:/Users/Administrator/workspace/xgboost-win64_release_1.4.0/src/learner.cc:1095: Starting in XGBoost 1.3.0, the default evaluation metric used with the objective 'binary:logistic' was changed from 'error' to 'logloss'. Explicitly set eval_metric if you'd like to restore the old behavior.\n",
      "[0]\tvalidation_0-logloss:0.61420\tvalidation_1-logloss:0.61411\n",
      "[295]\tvalidation_0-logloss:0.07586\tvalidation_1-logloss:0.09829\n",
      "[0 0 0 ... 0 0 0]\n",
      "Training fold 5\n",
      "0:\tlearn: 0.6246809\ttest: 0.5821157\tbest: 0.5821157 (0)\ttotal: 12.7ms\tremaining: 12.7s\n",
      "Stopped by overfitting detector  (50 iterations wait)\n",
      "\n",
      "bestTest = 0.7307498742\n",
      "bestIteration = 155\n",
      "\n",
      "Shrink model to first 156 iterations.\n",
      "[LightGBM] [Warning] min_gain_to_split is set=3, min_split_gain=0.0 will be ignored. Current value: min_gain_to_split=3\n",
      "Training until validation scores don't improve for 50 rounds\n",
      "Early stopping, best iteration is:\n",
      "[94]\tvalid_0's binary_logloss: 0.103846\n",
      "[12:41:26] WARNING: C:/Users/Administrator/workspace/xgboost-win64_release_1.4.0/src/learner.cc:1095: Starting in XGBoost 1.3.0, the default evaluation metric used with the objective 'binary:logistic' was changed from 'error' to 'logloss'. Explicitly set eval_metric if you'd like to restore the old behavior.\n",
      "[0]\tvalidation_0-logloss:0.61405\tvalidation_1-logloss:0.61440\n",
      "[186]\tvalidation_0-logloss:0.08582\tvalidation_1-logloss:0.10335\n",
      "[0 0 0 ... 0 0 0]\n",
      "Our out of folds f1 score is 0.7090803932909198\n",
      "Our out of folds f1 score is 0.7016129032258064\n",
      "Our out of folds f1 score is 0.7003979533826038\n",
      "Our out of folds precision score is 0.8397260273972603\n",
      "Our out of folds recall score is 0.6136136136136137\n",
      "[[36929   234]\n",
      " [  772  1226]]\n",
      "Wall time: 25.5 s\n"
     ]
    },
    {
     "data": {
      "image/png": "[encoded data removed]",
      "text/plain": [
       "<Figure size 720x576 with 1 Axes>"
      ]
     },
     "metadata": {
      "needs_background": "light"
     },
     "output_type": "display_data"
    },
    {
     "data": {
      "image/png": "[encoded data removed]",
      "text/plain": [
       "<Figure size 720x576 with 1 Axes>"
      ]
     },
     "metadata": {
      "needs_background": "light"
     },
     "output_type": "display_data"
    },
    {
     "data": {
      "image/png": "[encoded data removed]",
      "text/plain": [
       "<Figure size 720x576 with 1 Axes>"
      ]
     },
     "metadata": {
      "needs_background": "light"
     },
     "output_type": "display_data"
    },
    {
     "data": {
      "image/png": "[encoded data removed]",
      "text/plain": [
       "<Figure size 720x576 with 1 Axes>"
      ]
     },
     "metadata": {
      "needs_background": "light"
     },
     "output_type": "display_data"
    },
    {
     "data": {
      "image/png": "[encoded data removed]",
      "text/plain": [
       "<Figure size 720x576 with 1 Axes>"
      ]
     },
     "metadata": {
      "needs_background": "light"
     },
     "output_type": "display_data"
    }
   ],
   "source": [
    "%%time\n",
    "#test_predictions,oof = train_and_evaluate(train, test)\n",
    "test_predictions,oof,test_predictions1,oof1,test_predictions2,oof2 = train_and_evaluate(train, test)\n",
    "\n",
    "#test_predictions = train_and_evaluate(train, test)"
   ]
  },
  {
   "cell_type": "code",
   "execution_count": null,
   "id": "cf24f32b-f6d0-4983-a4a3-7382902f607c",
   "metadata": {},
   "outputs": [],
   "source": []
  },
  {
   "cell_type": "code",
   "execution_count": 107,
   "id": "7dd16bd4-6174-4173-9be5-40f3a99b8f26",
   "metadata": {},
   "outputs": [],
   "source": [
    "def objective(trial):\n",
    "    params_hist = {\n",
    "        \n",
    "        #'loss':trial.suggest_categorical(\"loss\",[\"poisson\",\"squared_error\"]),\n",
    "        \"learning_rate\": trial.suggest_float(\"learning_rate\", 0.05,0.2),\n",
    "        \"max_depth\":trial.suggest_int(\"max_depth\",3,10),\n",
    "        #\"iterations\":trial.suggest_int(\"iterations\",100,1000),\n",
    "        'eval_metric':'F1',  \n",
    "        'loss_function':'Logloss',\n",
    "        'custom_metric':['F1'],\n",
    "        #'subsample': trial.suggest_float(\"subsample\",0.5,1),\n",
    "        \"l2_leaf_reg\":trial.suggest_int(\"l2_leaf_reg\",1,4),\n",
    "        #'scoring':\"neg_root_mean_squared_error\",\n",
    "        #\"early_stopping\":50,\n",
    "        'random_state':42,\n",
    "        'verbose':500,\n",
    "    }\n",
    "    \n",
    "    score = train_and_evaluate(train,test, params_hist)\n",
    "    \n",
    "    return score\n",
    "    "
   ]
  },
  {
   "cell_type": "code",
   "execution_count": 108,
   "id": "23f0fcd5-a5a0-4f62-8486-f91c6f97b983",
   "metadata": {},
   "outputs": [
    {
     "name": "stderr",
     "output_type": "stream",
     "text": [
      "\u001b[32m[I 2022-06-05 13:12:59,480]\u001b[0m A new study created in memory with name: no-name-2ec87ca5-aacb-43d8-954f-83a5c1ebf20f\u001b[0m\n",
      "d:\\python3.9\\lib\\site-packages\\optuna\\study\\study.py:393: FutureWarning: `n_jobs` argument has been deprecated in v2.7.0. This feature will be removed in v4.0.0. See https://github.com/optuna/optuna/releases/tag/v2.7.0.\n",
      "  warnings.warn(\n",
      "Custom logger is already specified. Specify more than one logger at same time is not thread safe.Custom logger is already specified. Specify more than one logger at same time is not thread safe.Custom logger is already specified. Specify more than one logger at same time is not thread safe."
     ]
    },
    {
     "name": "stdout",
     "output_type": "stream",
     "text": [
      "Training fold 1\n",
      "Training fold 1\n",
      "Training fold 1\n",
      "Training fold 1\n",
      "0:\tlearn: 0.4803037\ttest: 0.4962406\tbest: 0.4962406 (0)\ttotal: 22ms\tremaining: 22s\n",
      "0:\tlearn: 0.4803037\ttest: 0.4962406\tbest: 0.4962406 (0)\ttotal: 17.9ms\tremaining: 17.9s\n",
      "0:\tlearn: 0.4803037\ttest: 0.4962406\tbest: 0.4962406 (0)\ttotal: 19.5ms\tremaining: 19.5s\n",
      "0:\tlearn: 0.4803037\ttest: 0.4962406\tbest: 0.4962406 (0)\ttotal: 26.2ms\tremaining: 26.2s\n",
      "Stopped by overfitting detector  (50 iterations wait)\n",
      "\n",
      "bestTest = 0.6848874598\n",
      "bestIteration = 72\n",
      "\n",
      "Shrink model to first 73 iterations.\n",
      "[0 0 0 ... 0 0 0]\n",
      "Training fold 2\n",
      "0:\tlearn: 0.4769158\ttest: 0.5092937\tbest: 0.5092937 (0)\ttotal: 16.5ms\tremaining: 16.5s\n",
      "Stopped by overfitting detector  (50 iterations wait)\n",
      "\n",
      "bestTest = 0.6910828025\n",
      "bestIteration = 4\n",
      "\n",
      "Shrink model to first 5 iterations.\n",
      "[0 0 0 ... 0 0 0]\n",
      "Training fold 3\n",
      "0:\tlearn: 0.4860520\ttest: 0.4732824\tbest: 0.4732824 (0)\ttotal: 22.2ms\tremaining: 22.2s\n",
      "Stopped by overfitting detector  (50 iterations wait)\n",
      "\n",
      "bestTest = 0.6912\n",
      "bestIteration = 139\n",
      "\n",
      "Shrink model to first 140 iterations.\n",
      "[0 0 0 ... 0 0 0]\n",
      "Training fold 2\n",
      "0:\tlearn: 0.4769158\ttest: 0.5092937\tbest: 0.5092937 (0)\ttotal: 17.5ms\tremaining: 17.4s\n",
      "Stopped by overfitting detector  (50 iterations wait)\n",
      "\n",
      "bestTest = 0.6995230525\n",
      "bestIteration = 15\n",
      "\n",
      "Shrink model to first 16 iterations.\n",
      "[0 0 0 ... 1 0 0]\n",
      "Training fold 4\n",
      "0:\tlearn: 0.4831833\ttest: 0.4848485\tbest: 0.4848485 (0)\ttotal: 14.6ms\tremaining: 14.5s\n",
      "Stopped by overfitting detector  (50 iterations wait)\n",
      "\n",
      "bestTest = 0.6910828025\n",
      "bestIteration = 3\n",
      "\n",
      "Shrink model to first 4 iterations.\n",
      "[0 0 0 ... 0 0 0]\n",
      "Training fold 3\n",
      "0:\tlearn: 0.4860520\ttest: 0.4732824\tbest: 0.4732824 (0)\ttotal: 14.3ms\tremaining: 14.3s\n",
      "Stopped by overfitting detector  (50 iterations wait)\n",
      "\n",
      "bestTest = 0.709375\n",
      "bestIteration = 214\n",
      "\n",
      "Shrink model to first 215 iterations.\n",
      "[0 0 0 ... 0 0 0]\n",
      "Training fold 2\n",
      "0:\tlearn: 0.6018597\ttest: 0.6277129\tbest: 0.6277129 (0)\ttotal: 25.6ms\tremaining: 25.6s\n",
      "Stopped by overfitting detector  (50 iterations wait)\n",
      "\n",
      "bestTest = 0.6996805112\n",
      "bestIteration = 22\n",
      "\n",
      "Shrink model to first 23 iterations.\n",
      "[0 0 0 ... 1 0 0]\n",
      "Training fold 4\n",
      "0:\tlearn: 0.4831833\ttest: 0.4848485\tbest: 0.4848485 (0)\ttotal: 19.4ms\tremaining: 19.4s\n",
      "Stopped by overfitting detector  (50 iterations wait)\n",
      "\n",
      "bestTest = 0.7125\n",
      "bestIteration = 342\n",
      "\n",
      "Shrink model to first 343 iterations.\n",
      "[0 0 0 ... 0 0 0]\n",
      "Training fold 2\n",
      "[0 0 0 ... 0 0 0]\n",
      "Training fold 3\n",
      "0:\tlearn: 0.4769158\ttest: 0.5092937\tbest: 0.5092937 (0)\ttotal: 25.7ms\tremaining: 25.7s\n",
      "0:\tlearn: 0.4860520\ttest: 0.4732824\tbest: 0.4732824 (0)\ttotal: 24ms\tremaining: 24s\n",
      "Stopped by overfitting detector  (50 iterations wait)\n",
      "\n",
      "bestTest = 0.6808510638\n",
      "bestIteration = 22\n",
      "\n",
      "Shrink model to first 23 iterations.\n",
      "[0 0 0 ... 0 0 0]\n",
      "Training fold 5\n",
      "0:\tlearn: 0.4910462\ttest: 0.4526112\tbest: 0.4526112 (0)\ttotal: 24ms\tremaining: 23.9s\n",
      "Stopped by overfitting detector  (50 iterations wait)\n",
      "\n",
      "bestTest = 0.7015873016\n",
      "bestIteration = 13\n",
      "\n",
      "Shrink model to first 14 iterations.\n",
      "[0 0 0 ... 1 0 0]\n",
      "Training fold 4\n",
      "0:\tlearn: 0.4831833\ttest: 0.4848485\tbest: 0.4848485 (0)\ttotal: 15.6ms\tremaining: 15.5s\n",
      "Stopped by overfitting detector  (50 iterations wait)\n",
      "\n",
      "bestTest = 0.6953748006\n",
      "bestIteration = 57\n",
      "\n",
      "Shrink model to first 58 iterations.\n",
      "[0 0 0 ... 0 0 0]\n",
      "Training fold 3\n",
      "0:\tlearn: 0.4860520\ttest: 0.4732824\tbest: 0.4732824 (0)\ttotal: 17.5ms\tremaining: 17.5s\n",
      "Stopped by overfitting detector  (50 iterations wait)\n",
      "\n",
      "bestTest = 0.701754386\n",
      "bestIteration = 285\n",
      "\n",
      "Shrink model to first 286 iterations.\n",
      "[0 0 0 ... 0 0 0]\n",
      "Training fold 5\n",
      "0:\tlearn: 0.4910462\ttest: 0.4526112\tbest: 0.4526112 (0)\ttotal: 19.7ms\tremaining: 19.7s\n"
     ]
    },
    {
     "name": "stderr",
     "output_type": "stream",
     "text": [
      "\u001b[32m[I 2022-06-05 13:13:15,350]\u001b[0m Trial 3 finished with value: 0.6864324846922335 and parameters: {'learning_rate': 0.06345746612290692, 'max_depth': 4, 'l2_leaf_reg': 3}. Best is trial 3 with value: 0.6864324846922335.\u001b[0m\n"
     ]
    },
    {
     "name": "stdout",
     "output_type": "stream",
     "text": [
      "Stopped by overfitting detector  (50 iterations wait)\n",
      "\n",
      "bestTest = 0.6688417618\n",
      "bestIteration = 85\n",
      "\n",
      "Shrink model to first 86 iterations.\n",
      "[0 0 0 ... 0 0 0]\n",
      "Our out of folds f1 score is 0.6864324846922335\n",
      "Training fold 1\n",
      "Stopped by overfitting detector  (50 iterations wait)\n",
      "\n",
      "bestTest = 0.701754386\n",
      "bestIteration = 22\n",
      "\n",
      "Shrink model to first 23 iterations.\n",
      "0:\tlearn: 0.4803037\ttest: 0.4962406\tbest: 0.4962406 (0)\ttotal: 12.3ms\tremaining: 12.3s\n",
      "[0 0 0 ... 1 0 0]\n",
      "Training fold 4\n",
      "0:\tlearn: 0.4831833\ttest: 0.4848485\tbest: 0.4848485 (0)\ttotal: 25.3ms\tremaining: 25.2s\n",
      "Stopped by overfitting detector  (50 iterations wait)\n",
      "\n",
      "bestTest = 0.701754386\n",
      "bestIteration = 108\n",
      "\n",
      "Shrink model to first 109 iterations.\n",
      "[0 0 0 ... 0 0 0]\n",
      "Training fold 5\n",
      "0:\tlearn: 0.4910462\ttest: 0.4526112\tbest: 0.4526112 (0)\ttotal: 26ms\tremaining: 26s\n"
     ]
    },
    {
     "name": "stderr",
     "output_type": "stream",
     "text": [
      "\u001b[32m[I 2022-06-05 13:13:18,265]\u001b[0m Trial 1 finished with value: 0.6891025641025641 and parameters: {'learning_rate': 0.08332768871204538, 'max_depth': 3, 'l2_leaf_reg': 4}. Best is trial 3 with value: 0.6864324846922335.\u001b[0m\n"
     ]
    },
    {
     "name": "stdout",
     "output_type": "stream",
     "text": [
      "Stopped by overfitting detector  (50 iterations wait)\n",
      "\n",
      "bestTest = 0.667752443\n",
      "bestIteration = 99\n",
      "\n",
      "Shrink model to first 100 iterations.\n",
      "[0 0 0 ... 0 0 0]\n",
      "Our out of folds f1 score is 0.6891025641025641\n",
      "Training fold 1\n",
      "0:\tlearn: 0.6789432\ttest: 0.6720000\tbest: 0.6720000 (0)\ttotal: 32.3ms\tremaining: 32.2s\n",
      "Stopped by overfitting detector  (50 iterations wait)\n",
      "\n",
      "bestTest = 0.6666666667\n",
      "bestIteration = 22\n",
      "\n",
      "Shrink model to first 23 iterations.\n",
      "[0 0 0 ... 0 0 0]\n",
      "Our out of folds f1 score is 0.6957908163265306"
     ]
    },
    {
     "name": "stderr",
     "output_type": "stream",
     "text": [
      "\u001b[32m[I 2022-06-05 13:13:19,454]\u001b[0m Trial 0 finished with value: 0.6957908163265306 and parameters: {'learning_rate': 0.11664814895460579, 'max_depth': 5, 'l2_leaf_reg': 1}. Best is trial 3 with value: 0.6864324846922335.\u001b[0m\n"
     ]
    },
    {
     "name": "stdout",
     "output_type": "stream",
     "text": [
      "\n",
      "Training fold 1\n",
      "0:\tlearn: 0.4803037\ttest: 0.4962406\tbest: 0.4962406 (0)\ttotal: 27.5ms\tremaining: 27.5s\n",
      "Stopped by overfitting detector  (50 iterations wait)\n",
      "\n",
      "bestTest = 0.7070063694\n",
      "bestIteration = 191\n",
      "\n",
      "Shrink model to first 192 iterations.\n",
      "[0 0 0 ... 0 0 0]\n",
      "Training fold 5\n",
      "0:\tlearn: 0.4910462\ttest: 0.4526112\tbest: 0.4526112 (0)\ttotal: 24.6ms\tremaining: 24.5s\n",
      "Stopped by overfitting detector  (50 iterations wait)\n",
      "\n",
      "bestTest = 0.7095761381\n",
      "bestIteration = 303\n",
      "\n",
      "Shrink model to first 304 iterations.\n",
      "[0 0 0 ... 0 0 0]\n",
      "Training fold 2\n",
      "0:\tlearn: 0.4769158\ttest: 0.5092937\tbest: 0.5092937 (0)\ttotal: 11.3ms\tremaining: 11.3s\n"
     ]
    },
    {
     "name": "stderr",
     "output_type": "stream",
     "text": [
      "\u001b[32m[I 2022-06-05 13:13:24,173]\u001b[0m Trial 2 finished with value: 0.6973180076628352 and parameters: {'learning_rate': 0.0930543878863776, 'max_depth': 4, 'l2_leaf_reg': 4}. Best is trial 3 with value: 0.6864324846922335.\u001b[0m\n"
     ]
    },
    {
     "name": "stdout",
     "output_type": "stream",
     "text": [
      "Stopped by overfitting detector  (50 iterations wait)\n",
      "\n",
      "bestTest = 0.668852459\n",
      "bestIteration = 44\n",
      "\n",
      "Shrink model to first 45 iterations.\n",
      "[0 0 0 ... 0 0 0]\n",
      "Our out of folds f1 score is 0.6973180076628352\n",
      "Training fold 1\n",
      "0:\tlearn: 0.6789432\ttest: 0.6698718\tbest: 0.6698718 (0)\ttotal: 31.5ms\tremaining: 31.5s\n",
      "Stopped by overfitting detector  (50 iterations wait)\n",
      "\n",
      "bestTest = 0.7136150235\n",
      "bestIteration = 147\n",
      "\n",
      "Shrink model to first 148 iterations.\n",
      "[0 0 0 ... 0 0 0]\n",
      "Training fold 2\n",
      "Stopped by overfitting detector  (50 iterations wait)\n",
      "\n",
      "bestTest = 0.7069767442\n",
      "bestIteration = 157\n",
      "\n",
      "Shrink model to first 158 iterations.\n",
      "0:\tlearn: 0.6018597\ttest: 0.6277129\tbest: 0.6277129 (0)\ttotal: 23.2ms\tremaining: 23.2s\n",
      "[0 0 0 ... 0 0 0]\n",
      "Training fold 2\n",
      "Stopped by overfitting detector  (50 iterations wait)\n",
      "\n",
      "bestTest = 0.6963434022\n",
      "bestIteration = 58\n",
      "\n",
      "Shrink model to first 59 iterations.\n",
      "[0 0 0 ... 0 0 0]\n",
      "Training fold 3\n",
      "0:\tlearn: 0.4860520\ttest: 0.4732824\tbest: 0.4732824 (0)\ttotal: 22.1ms\tremaining: 22.1s\n",
      "Stopped by overfitting detector  (50 iterations wait)\n",
      "\n",
      "bestTest = 0.696485623\n",
      "bestIteration = 20\n",
      "\n",
      "Shrink model to first 21 iterations.\n",
      "Stopped by overfitting detector  (50 iterations wait)\n",
      "\n",
      "bestTest = 0.6995230525\n",
      "bestIteration = 13\n",
      "\n",
      "Shrink model to first 14 iterations.\n",
      "[0 0 0 ... 0 0 0]\n",
      "[0 0 0 ... 1 0 0]\n",
      "Training fold 3\n",
      "Training fold 4\n"
     ]
    },
    {
     "name": "stderr",
     "output_type": "stream",
     "text": [
      "Custom logger is already specified. Specify more than one logger at same time is not thread safe."
     ]
    },
    {
     "name": "stdout",
     "output_type": "stream",
     "text": [
      "0:\tlearn: 0.4860520\ttest: 0.4732824\tbest: 0.4732824 (0)\ttotal: 29.8ms\tremaining: 29.8s\n",
      "0:\tlearn: 0.4831833\ttest: 0.4848485\tbest: 0.4848485 (0)\ttotal: 25.5ms\tremaining: 25.5s\n",
      "Stopped by overfitting detector  (50 iterations wait)\n",
      "\n",
      "bestTest = 0.6982622433\n",
      "bestIteration = 40\n",
      "\n",
      "Shrink model to first 41 iterations.\n",
      "[0 0 0 ... 0 0 0]\n",
      "Training fold 3\n",
      "0:\tlearn: 0.6741754\ttest: 0.6907378\tbest: 0.6907378 (0)\ttotal: 34.9ms\tremaining: 34.9s\n",
      "Stopped by overfitting detector  (50 iterations wait)\n",
      "\n",
      "bestTest = 0.7003154574\n",
      "bestIteration = 50\n",
      "\n",
      "Shrink model to first 51 iterations.\n",
      "last_lead, bin=121 score 1.142949124\n",
      "\n",
      "[0 0 0 ... 1 0 0]\n",
      "Training fold 4\n",
      "0:\tlearn: 0.4831833\ttest: 0.4848485\tbest: 0.4848485 (0)\ttotal: 21.1ms\tremaining: 21.1s\n",
      "Stopped by overfitting detector  (50 iterations wait)\n",
      "\n",
      "bestTest = 0.6998394864\n",
      "bestIteration = 89\n",
      "\n",
      "Shrink model to first 90 iterations.\n",
      "[0 0 0 ... 0 0 0]\n",
      "Training fold 5\n",
      "0:\tlearn: 0.4910462\ttest: 0.4526112\tbest: 0.4526112 (0)\ttotal: 22.2ms\tremaining: 22.2s\n",
      "Stopped by overfitting detector  (50 iterations wait)\n",
      "\n",
      "bestTest = 0.701754386\n",
      "bestIteration = 5\n",
      "\n",
      "Shrink model to first 6 iterations.\n",
      "[0 0 0 ... 1 0 0]\n",
      "Training fold 4\n",
      "0:\tlearn: 0.6783719\ttest: 0.6699187\tbest: 0.6699187 (0)\ttotal: 27.5ms\tremaining: 27.5s\n",
      "Stopped by overfitting detector  (50 iterations wait)\n",
      "\n",
      "bestTest = 0.6923076923\n",
      "bestIteration = 122\n",
      "\n",
      "Shrink model to first 123 iterations.\n",
      "[0 0 0 ... 0 0 0]\n",
      "Training fold 2\n",
      "0:\tlearn: 0.6741483\ttest: 0.6910828\tbest: 0.6910828 (0)\ttotal: 40.3ms\tremaining: 40.2s\n"
     ]
    },
    {
     "name": "stderr",
     "output_type": "stream",
     "text": [
      "\u001b[32m[I 2022-06-05 13:13:32,391]\u001b[0m Trial 4 finished with value: 0.6945686900958468 and parameters: {'learning_rate': 0.13551013040280574, 'max_depth': 3, 'l2_leaf_reg': 2}. Best is trial 3 with value: 0.6864324846922335.\u001b[0m\n"
     ]
    },
    {
     "name": "stdout",
     "output_type": "stream",
     "text": [
      "Stopped by overfitting detector  (50 iterations wait)\n",
      "\n",
      "bestTest = 0.6666666667\n",
      "bestIteration = 39\n",
      "\n",
      "Shrink model to first 40 iterations.\n",
      "[0 0 0 ... 0 0 0]\n",
      "Our out of folds f1 score is 0.6945686900958468\n",
      "Training fold 1\n",
      "0:\tlearn: 0.6789432\ttest: 0.6698718\tbest: 0.6698718 (0)\ttotal: 56.9ms\tremaining: 56.9s\n",
      "Stopped by overfitting detector  (50 iterations wait)\n",
      "\n",
      "bestTest = 0.7099841521\n",
      "bestIteration = 119\n",
      "\n",
      "Shrink model to first 120 iterations.\n",
      "user_activity_var_7, bin=0 score 1.489905895\n",
      "[0 0 0 ... 0 0 0]\n",
      "Training fold 5\n",
      "campaign_var_1, bin=11 score 0.4047515315\n",
      "0:\tlearn: 0.4910462\ttest: 0.4526112\tbest: 0.4526112 (0)\ttotal: 31.1ms\tremaining: 31.1s\n",
      "Stopped by overfitting detector  (50 iterations wait)\n",
      "\n",
      "bestTest = 0.7056962025\n",
      "bestIteration = 84\n",
      "\n",
      "Shrink model to first 85 iterations.\n",
      "[0 0 0 ... 0 0 0]\n",
      "Training fold 5\n",
      "0:\tlearn: 0.6820901\ttest: 0.6590909\tbest: 0.6590909 (0)\ttotal: 33.6ms\tremaining: 33.6s\n",
      "Stopped by overfitting detector  (50 iterations wait)\n",
      "\n",
      "bestTest = 0.6985645933\n",
      "bestIteration = 100\n",
      "\n",
      "Shrink model to first 101 iterations.\n",
      "[0 0 0 ... 0 0 0]\n",
      "Training fold 3\n",
      "0:\tlearn: 0.6741754\ttest: 0.6907378\tbest: 0.6907378 (0)\ttotal: 47.5ms\tremaining: 47.4s\n"
     ]
    },
    {
     "name": "stderr",
     "output_type": "stream",
     "text": [
      "\u001b[32m[I 2022-06-05 13:13:39,348]\u001b[0m Trial 5 finished with value: 0.6983627204030226 and parameters: {'learning_rate': 0.16111477906433191, 'max_depth': 7, 'l2_leaf_reg': 4}. Best is trial 3 with value: 0.6864324846922335.\u001b[0m\n"
     ]
    },
    {
     "name": "stdout",
     "output_type": "stream",
     "text": [
      "Stopped by overfitting detector  (50 iterations wait)\n",
      "\n",
      "bestTest = 0.6791862285\n",
      "bestIteration = 71\n",
      "\n",
      "Shrink model to first 72 iterations.\n",
      "[0 0 0 ... 0 0 0]\n",
      "Our out of folds f1 score is 0.6983627204030226\n",
      "Training fold 1\n",
      "0:\tlearn: 0.6789432\ttest: 0.6698718\tbest: 0.6698718 (0)\ttotal: 36.4ms\tremaining: 36.4s\n"
     ]
    },
    {
     "name": "stderr",
     "output_type": "stream",
     "text": [
      "\u001b[32m[I 2022-06-05 13:13:40,160]\u001b[0m Trial 6 finished with value: 0.7007575757575758 and parameters: {'learning_rate': 0.18942441772622848, 'max_depth': 5, 'l2_leaf_reg': 3}. Best is trial 3 with value: 0.6864324846922335.\u001b[0m\n"
     ]
    },
    {
     "name": "stdout",
     "output_type": "stream",
     "text": [
      "Stopped by overfitting detector  (50 iterations wait)\n",
      "\n",
      "bestTest = 0.6833855799\n",
      "bestIteration = 152\n",
      "\n",
      "Shrink model to first 153 iterations.\n",
      "user_activity_var_11, bin=0 score 0.4776839814\n",
      "[0 0 0 ... 0 0 0]\n",
      "Our out of folds f1 score is 0.7007575757575758\n",
      "[0 0 0 ... 1 0 0]\n",
      "Training fold 4\n",
      "0:\tlearn: 0.6783719\ttest: 0.6677524\tbest: 0.6677524 (0)\ttotal: 33.2ms\tremaining: 33.2s\n",
      "Stopped by overfitting detector  (50 iterations wait)\n",
      "\n",
      "bestTest = 0.7034700315\n",
      "bestIteration = 116\n",
      "\n",
      "Shrink model to first 117 iterations.\n",
      "[0 0 0 ... 0 0 0]\n",
      "Training fold 2\n",
      "0:\tlearn: 0.6741483\ttest: 0.6910828\tbest: 0.6910828 (0)\ttotal: 49ms\tremaining: 49s\n",
      "Stopped by overfitting detector  (50 iterations wait)\n",
      "\n",
      "bestTest = 0.7021943574\n",
      "bestIteration = 112\n",
      "\n",
      "Shrink model to first 113 iterations.\n",
      "[0 0 0 ... 0 0 0]\n",
      "Training fold 2\n",
      "0:\tlearn: 0.6741483\ttest: 0.6910828\tbest: 0.6910828 (0)\ttotal: 32.4ms\tremaining: 32.4s\n",
      "Stopped by overfitting detector  (50 iterations wait)\n",
      "\n",
      "bestTest = 0.6984126984\n",
      "bestIteration = 51\n",
      "\n",
      "Shrink model to first 52 iterations.\n",
      "[0 0 0 ... 0 0 0]\n",
      "Training fold 3\n",
      "0:\tlearn: 0.6741754\ttest: 0.6907378\tbest: 0.6907378 (0)\ttotal: 36.6ms\tremaining: 36.5s\n",
      "Stopped by overfitting detector  (50 iterations wait)\n",
      "\n",
      "bestTest = 0.692431562\n",
      "bestIteration = 114\n",
      "\n",
      "Shrink model to first 115 iterations.\n",
      "[0 0 0 ... 0 0 0]\n",
      "Training fold 5\n",
      "user_activity_var_4, bin=0 score 12.4505725\n",
      "0:\tlearn: 0.6820901\ttest: 0.6503268\tbest: 0.6503268 (0)\ttotal: 27.7ms\tremaining: 27.7s\n",
      "Stopped by overfitting detector  (50 iterations wait)\n",
      "\n",
      "bestTest = 0.7027027027\n",
      "bestIteration = 31\n",
      "\n",
      "Shrink model to first 32 iterations.\n",
      "[0 0 0 ... 0 0 0]\n",
      "Training fold 3\n",
      "0:\tlearn: 0.6741754\ttest: 0.6907378\tbest: 0.6907378 (0)\ttotal: 31.6ms\tremaining: 31.5s\n"
     ]
    },
    {
     "name": "stderr",
     "output_type": "stream",
     "text": [
      "\u001b[32m[I 2022-06-05 13:13:49,208]\u001b[0m Trial 7 finished with value: 0.6906521040796659 and parameters: {'learning_rate': 0.05769882243687173, 'max_depth': 8, 'l2_leaf_reg': 1}. Best is trial 3 with value: 0.6864324846922335.\u001b[0m\n"
     ]
    },
    {
     "name": "stdout",
     "output_type": "stream",
     "text": [
      "Stopped by overfitting detector  (50 iterations wait)\n",
      "\n",
      "bestTest = 0.6677577741\n",
      "bestIteration = 41\n",
      "\n",
      "Shrink model to first 42 iterations.\n",
      "[0 0 0 ... 0 0 0]\n",
      "Our out of folds f1 score is 0.6906521040796659\n",
      "[0 0 0 ... 1 0 0]\n",
      "Training fold 4\n",
      "user_activity_var_11, bin=0 score 1.949436056\n",
      "0:\tlearn: 0.6783719\ttest: 0.6677524\tbest: 0.6677524 (0)\ttotal: 24.6ms\tremaining: 24.6s\n",
      "Stopped by overfitting detector  (50 iterations wait)\n",
      "\n",
      "bestTest = 0.6992125984\n",
      "bestIteration = 82\n",
      "\n",
      "Shrink model to first 83 iterations.\n",
      "[0 0 0 ... 1 0 0]\n",
      "Training fold 4\n",
      "0:\tlearn: 0.6783719\ttest: 0.6677524\tbest: 0.6677524 (0)\ttotal: 34.4ms\tremaining: 34.4s\n",
      "Stopped by overfitting detector  (50 iterations wait)\n",
      "\n",
      "bestTest = 0.7095761381\n",
      "bestIteration = 118\n",
      "\n",
      "Shrink model to first 119 iterations.\n",
      "\n",
      "[0 0 0 ... 0 0 0]\n",
      "Training fold 5\n",
      "0:\tlearn: 0.6820901\ttest: 0.6503268\tbest: 0.6503268 (0)\ttotal: 25ms\tremaining: 24.9s\n"
     ]
    },
    {
     "name": "stderr",
     "output_type": "stream",
     "text": [
      "\u001b[32m[I 2022-06-05 13:13:58,331]\u001b[0m Trial 9 finished with value: 0.69937106918239 and parameters: {'learning_rate': 0.13124547520124258, 'max_depth': 8, 'l2_leaf_reg': 3}. Best is trial 3 with value: 0.6864324846922335.\u001b[0m\n"
     ]
    },
    {
     "name": "stdout",
     "output_type": "stream",
     "text": [
      "Stopped by overfitting detector  (50 iterations wait)\n",
      "\n",
      "bestTest = 0.6874027994\n",
      "bestIteration = 95\n",
      "\n",
      "Shrink model to first 96 iterations.\n",
      "[0 0 0 ... 0 0 0]\n",
      "Our out of folds f1 score is 0.69937106918239\n",
      "[0 0 0 ... 0 0 0]\n",
      "Training fold 5\n",
      "0:\tlearn: 0.6820901\ttest: 0.6503268\tbest: 0.6503268 (0)\ttotal: 44.6ms\tremaining: 44.6s\n"
     ]
    },
    {
     "name": "stderr",
     "output_type": "stream",
     "text": [
      "\u001b[32m[I 2022-06-05 13:14:05,902]\u001b[0m Trial 8 finished with value: 0.6965582570255763 and parameters: {'learning_rate': 0.09165937994594114, 'max_depth': 9, 'l2_leaf_reg': 4}. Best is trial 3 with value: 0.6864324846922335.\u001b[0m\n"
     ]
    },
    {
     "name": "stdout",
     "output_type": "stream",
     "text": [
      "Stopped by overfitting detector  (50 iterations wait)\n",
      "\n",
      "bestTest = 0.6771159875\n",
      "bestIteration = 106\n",
      "\n",
      "Shrink model to first 107 iterations.\n",
      "[0 0 0 ... 0 0 0]\n",
      "Our out of folds f1 score is 0.6965582570255763\n",
      "Best hyperparameters: {'learning_rate': 0.06345746612290692, 'max_depth': 4, 'l2_leaf_reg': 3}\n"
     ]
    }
   ],
   "source": [
    "study = optuna.create_study()\n",
    "study.optimize(objective, n_jobs=4, n_trials=10)\n",
    "print(\"Best hyperparameters: {}\".format(study.best_trial.params))"
   ]
  },
  {
   "cell_type": "code",
   "execution_count": 60,
   "id": "5c70af65-d1f2-4928-b5a8-7d019e8b9a84",
   "metadata": {},
   "outputs": [],
   "source": [
    "def evaluate_ensemble(train, test):\n",
    "    \n",
    "    \n",
    "    \n",
    "    \n",
    "    # Split features and target\n",
    "    #x = train[['user_activity_var_2','user_activity_var_4','user_activity_var_5','user_activity_var_9','user_activity_var_11']]\n",
    "    x = train.drop(['target'],axis=1)\n",
    "    y = train['target']\n",
    "    #x_test = test[['user_activity_var_2','user_activity_var_4','user_activity_var_5','user_activity_var_9','user_activity_var_11']]\n",
    "    x_test = test\n",
    "    #print(x.shape[0])\n",
    "    # Create out of folds array\n",
    "    oof_predictions = np.zeros(x.shape[0])\n",
    "    # Create test array to store predictions\n",
    "    test_predictions = np.zeros(x_test.shape[0])\n",
    "    \n",
    "    oof_predictions1 = np.zeros(x.shape[0])\n",
    "    # Create test array to store predictions\n",
    "    test_predictions1 = np.zeros(x_test.shape[0])\n",
    "    \n",
    "    # Create a KFold object\n",
    "    kfold = StratifiedKFold(n_splits = 5, random_state = 66, shuffle = True)\n",
    "    # Iterate through each fold\n",
    "    for fold, (trn_ind, val_ind) in enumerate(kfold.split(x, y=y.values)):\n",
    "        print(f'Training fold {fold + 1}')\n",
    "        x_train, x_val = x.iloc[trn_ind], x.iloc[val_ind]\n",
    "        y_train, y_val = y.iloc[trn_ind], y.iloc[val_ind]\n",
    "        \n",
    "        \n",
    "        model = LogisticRegression(random_state=42, C=1.5)\n",
    "        \n",
    "        #model1 = lightgbm.LGBMClassifier(objective='binary', random_state=42, min_gain_to_split=1,num_leaves=100,learning_rate=0.1, n_estimators=1000, max_depth=5 )\n",
    "        \n",
    "        #model = GaussianNB()\n",
    "        #model = catboost.CatBoostClassifier(random_seed=42, eval_metric='F1',  loss_function='Logloss',\n",
    "        #                                    custom_metric=['F1', 'Precision', 'Recall'],\n",
    "        #                                    verbose=500,learning_rate=0.1, max_depth=7,\n",
    "        #                                   l2_leaf_reg= 9.8)\n",
    "        \n",
    "        #model.fit(x_train, y_train, early_stopping_rounds=100, eval_set=(x_val, y_val), use_best_model=True)\n",
    "        \n",
    "        #model1.fit(x_train, y_train, early_stopping_rounds=100, eval_set=(x_val, y_val), verbose=500)\n",
    "        \n",
    "        #val_pred = model.predict_proba(x_val)\n",
    "        \n",
    "        model.fit(x_train, y_train)\n",
    "        \n",
    "        val_pred = model.predict(x_val)\n",
    "        \n",
    "        #val_pred1 = model1.predict(x_val)\n",
    "        print(val_pred)\n",
    "        \n",
    "        #val = np.argmax(val_pred, axis=1)\n",
    "        \n",
    "        # Add predictions to the out of folds array\n",
    "        \n",
    "        oof_predictions[val_ind] =  val_pred\n",
    "        \n",
    "        #oof_predictions1[val_ind] =  val_pred1\n",
    "        # Predict the test set\n",
    "        \n",
    "        #xgb_pred = np.argmax(model.predict_proba(x_test), axis=1)\n",
    "        pred = model.predict(x_test)\n",
    "        \n",
    "        #pred1 = model1.predict(x_test)\n",
    "        \n",
    "        \n",
    "        test_predictions += pred\n",
    "        \n",
    "        #test_predictions1 += pred1\n",
    "        \n",
    "        \n",
    "        \n",
    "    score = metrics.f1_score(y, oof_predictions)\n",
    "    precision = metrics.precision_score(y, oof_predictions)\n",
    "    print(f'Our out of folds f1 score is {score}')\n",
    "    print(f'Our out of folds precision score is {precision}')\n",
    "    # Return test predictions\n",
    "    return [round(x/5) for x in test_predictions], oof_predictions"
   ]
  },
  {
   "cell_type": "code",
   "execution_count": 85,
   "id": "631a5162-ca63-4156-8936-7d88aed09e45",
   "metadata": {},
   "outputs": [],
   "source": [
    "train_df = pd.DataFrame.from_dict({'pred1':oof, 'pred2':oof1, 'pred3':oof2,'target': train['buy']})"
   ]
  },
  {
   "cell_type": "code",
   "execution_count": 86,
   "id": "b5420de9-8365-4b98-bf7e-a210d59ac49e",
   "metadata": {},
   "outputs": [],
   "source": [
    "test_df = pd.DataFrame.from_dict({'pred1':test_predictions, 'pred2':test_predictions1, 'pred3':test_predictions2})"
   ]
  },
  {
   "cell_type": "code",
   "execution_count": 87,
   "id": "07522110-8557-4214-aedb-f5a5d95edffe",
   "metadata": {},
   "outputs": [
    {
     "name": "stdout",
     "output_type": "stream",
     "text": [
      "Training fold 1\n",
      "[0 0 0 ... 0 0 0]\n",
      "Training fold 2\n",
      "[0 0 0 ... 0 0 0]\n",
      "Training fold 3\n",
      "[0 0 0 ... 1 0 0]\n",
      "Training fold 4\n",
      "[0 0 0 ... 0 0 0]\n",
      "Training fold 5\n",
      "[0 0 0 ... 0 0 0]\n",
      "Our out of folds f1 score is 0.6966966966966969\n",
      "Our out of folds precision score is 0.8708708708708709\n"
     ]
    }
   ],
   "source": [
    "test_pred, logit_oof = evaluate_ensemble(train_df, test_df)"
   ]
  },
  {
   "cell_type": "code",
   "execution_count": null,
   "id": "6def211c-d993-41ae-8b86-12bcd3dc2f4e",
   "metadata": {},
   "outputs": [],
   "source": []
  },
  {
   "cell_type": "code",
   "execution_count": 64,
   "id": "0028fff7-74ac-472f-85e2-5175fdb49d47",
   "metadata": {},
   "outputs": [
    {
     "data": {
      "text/plain": [
       "array([[36982,   181],\n",
       "       [  808,  1190]], dtype=int64)"
      ]
     },
     "execution_count": 64,
     "metadata": {},
     "output_type": "execute_result"
    }
   ],
   "source": [
    "metrics.confusion_matrix(train['buy'], logit_oof)"
   ]
  },
  {
   "cell_type": "code",
   "execution_count": 83,
   "id": "30d58644-59c2-403f-91a7-c88becae9720",
   "metadata": {},
   "outputs": [],
   "source": [
    "test['buy'] = test_predictions"
   ]
  },
  {
   "cell_type": "code",
   "execution_count": 84,
   "id": "161b6db9-c0a7-4612-8442-a318818e3185",
   "metadata": {},
   "outputs": [],
   "source": [
    "test[['id','buy']].to_csv('submission_21.csv', index=False)"
   ]
  },
  {
   "cell_type": "code",
   "execution_count": null,
   "id": "4ecc5950-1ad9-4bc7-ad9d-bc656178e96b",
   "metadata": {},
   "outputs": [],
   "source": []
  },
  {
   "cell_type": "code",
   "execution_count": null,
   "id": "c1c1582e-3e1d-4556-b18a-19ca282ccf47",
   "metadata": {},
   "outputs": [],
   "source": []
  },
  {
   "cell_type": "code",
   "execution_count": null,
   "id": "a21e2509-8fb2-4239-985b-f822fe980c49",
   "metadata": {},
   "outputs": [],
   "source": []
  }
 ],
 "metadata": {
  "kernelspec": {
   "display_name": "Python 3 (ipykernel)",
   "language": "python",
   "name": "python3"
  },
  "language_info": {
   "codemirror_mode": {
    "name": "ipython",
    "version": 3
   },
   "file_extension": ".py",
   "mimetype": "text/x-python",
   "name": "python",
   "nbconvert_exporter": "python",
   "pygments_lexer": "ipython3",
   "version": "3.9.6"
  }
 },
 "nbformat": 4,
 "nbformat_minor": 5
}
